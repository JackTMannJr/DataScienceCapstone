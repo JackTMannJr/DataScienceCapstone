version https://git-lfs.github.com/spec/v1
oid sha256:53736a8f397948c5aa6cf5c914b2ff55276ac3d6874e027ab304d00e785625d3
size 9935
