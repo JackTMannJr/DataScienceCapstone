{
 "cells": [
  {
   "cell_type": "markdown",
   "metadata": {},
   "source": [
    "# Combining the Datasets\n",
    "#### Combines the datasets from all .csv files into two separate DataFrames; one for trips and one for stations."
   ]
  },
  {
   "cell_type": "code",
   "execution_count": 1,
   "metadata": {},
   "outputs": [],
   "source": [
    "import pandas as pd\n",
    "import os\n",
    "import glob"
   ]
  },
  {
   "cell_type": "code",
   "execution_count": 2,
   "metadata": {},
   "outputs": [
    {
     "name": "stdout",
     "output_type": "stream",
     "text": [
      "Processing  C:\\Users\\JackMann\\Box Sync\\IBM\\CBDS Dev-UP\\data\\Divvy_Stations_2017_Q1Q2.csv\n",
      "Processing  C:\\Users\\JackMann\\Box Sync\\IBM\\CBDS Dev-UP\\data\\Divvy_Stations_2017_Q3Q4.csv\n",
      "Processing  C:\\Users\\JackMann\\Box Sync\\IBM\\CBDS Dev-UP\\data\\Divvy_Trips_2017_Q1.csv\n",
      "Processing  C:\\Users\\JackMann\\Box Sync\\IBM\\CBDS Dev-UP\\data\\Divvy_Trips_2017_Q2.csv\n",
      "Processing  C:\\Users\\JackMann\\Box Sync\\IBM\\CBDS Dev-UP\\data\\Divvy_Trips_2017_Q3.csv\n",
      "Processing  C:\\Users\\JackMann\\Box Sync\\IBM\\CBDS Dev-UP\\data\\Divvy_Trips_2017_Q4.csv\n"
     ]
    }
   ],
   "source": [
    "#create two lists to organize this data\n",
    "divvy_trip_li = []\n",
    "divvy_station_li = []\n",
    "\n",
    "#define filepath where data is stored\n",
    "path = 'C:\\\\Users\\\\JackMann\\\\Box Sync\\\\IBM\\\\CBDS Dev-UP\\\\data'\n",
    "\n",
    "#get all .csv files\n",
    "all_files = glob.glob(path + \"/*.csv\")\n",
    "\n",
    "#for each file\n",
    "for filename in all_files:\n",
    "    print(\"Processing \",filename)\n",
    "    #if it is a trip, add it to the divvy_trip list\n",
    "    if(\"Trips\" in filename):\n",
    "        df = pd.read_csv(filename, index_col=None, header=0)\n",
    "        divvy_trip_li.append(df)\n",
    "    #if it is a station, add it to the divvy_station list\n",
    "    elif(\"Stations\" in filename):\n",
    "        df = pd.read_csv(filename, index_col=None, header=0)\n",
    "        divvy_station_li.append(df)"
   ]
  },
  {
   "cell_type": "code",
   "execution_count": 4,
   "metadata": {},
   "outputs": [],
   "source": [
    "#concatenate all values from the list for stations and trips into respective dataframes\n",
    "divvy_trip_frame = pd.concat(divvy_trip_li, axis=0, ignore_index=True,sort=False)\n",
    "divvy_station_frame = pd.concat(divvy_station_li, axis=0, ignore_index=True,sort=False)\n",
    "\n",
    "#merge dataframes to get data for both from_station and to_station (inner joins on station_ids)\n",
    "merged_df = pd.merge(divvy_trip_frame, divvy_station_frame, how='left', left_on='from_station_id',right_on='id').merge(divvy_station_frame, how='left',left_on = 'to_station_id',right_on='id')"
   ]
  },
  {
   "cell_type": "code",
   "execution_count": 5,
   "metadata": {},
   "outputs": [],
   "source": [
    "#drop duplicates\n",
    "merged_df.drop_duplicates(subset='trip_id', keep='first', inplace=True)"
   ]
  },
  {
   "cell_type": "markdown",
   "metadata": {},
   "source": [
    "# Data Manipulation -> Age, distance, and speed"
   ]
  },
  {
   "cell_type": "code",
   "execution_count": 6,
   "metadata": {},
   "outputs": [],
   "source": [
    "#get age from 2017 (time the data was collected)\n",
    "merged_df['Age'] = 2017 - merged_df['birthyear']\n",
    "#END AGE"
   ]
  },
  {
   "cell_type": "code",
   "execution_count": 38,
   "metadata": {
    "scrolled": true
   },
   "outputs": [
    {
     "name": "stderr",
     "output_type": "stream",
     "text": [
      "C:\\Users\\JackMann\\Anaconda3\\lib\\site-packages\\ipykernel_launcher.py:10: FutureWarning: set_value is deprecated and will be removed in a future release. Please use .at[] or .iat[] accessors instead\n",
      "  # Remove the CWD from sys.path while we load stuff.\n"
     ]
    },
    {
     "name": "stdout",
     "output_type": "stream",
     "text": [
      "0           0.854513\n",
      "4           0.656664\n",
      "8           0.388786\n",
      "12          0.792088\n",
      "16          0.360549\n",
      "20          0.293797\n",
      "24          0.035314\n",
      "28          0.234387\n",
      "32          0.687332\n",
      "36          0.669884\n",
      "40          0.669884\n",
      "44          1.209227\n",
      "48          0.656664\n",
      "52          0.449133\n",
      "56          1.112724\n",
      "60          0.035681\n",
      "64          0.523344\n",
      "68          0.317714\n",
      "72          0.708823\n",
      "76          0.476377\n",
      "80          0.031968\n",
      "84          0.436878\n",
      "88          2.004406\n",
      "92          0.984058\n",
      "96          1.924784\n",
      "100         0.010853\n",
      "104         0.270957\n",
      "108         1.820634\n",
      "112         1.827570\n",
      "116         1.269285\n",
      "              ...   \n",
      "15306076    1.562676\n",
      "15306080    0.948147\n",
      "15306084    0.758584\n",
      "15306088    0.480280\n",
      "15306092    1.593244\n",
      "15306096    1.593244\n",
      "15306100    0.985623\n",
      "15306104    0.985623\n",
      "15306108    0.000000\n",
      "15306112    0.000000\n",
      "15306116    0.745137\n",
      "15306120    0.395324\n",
      "15306124    0.395324\n",
      "15306128    0.243067\n",
      "15306132    1.374975\n",
      "15306136    1.008266\n",
      "15306140    1.374975\n",
      "15306144    0.265034\n",
      "15306148    0.428411\n",
      "15306152    1.991860\n",
      "15306156    0.641776\n",
      "15306160    1.400339\n",
      "15306164    0.222972\n",
      "15306168    1.107006\n",
      "15306172    1.107006\n",
      "15306176    1.674516\n",
      "15306180    0.035222\n",
      "15306184    0.213139\n",
      "15306188    0.628495\n",
      "15306192    1.028511\n",
      "Name: Distance, Length: 3829003, dtype: float64\n"
     ]
    }
   ],
   "source": [
    "#get distance from stations\n",
    "#import distance formula\n",
    "from haversine import haversine\n",
    "import numpy as np\n",
    "#calculate haversine distance for each row unless the row does not have latitude/longitude data\n",
    "\n",
    "for index, row in merged_df.iterrows():\n",
    "    if row['latitude_x'] is not None and row['latitude_y'] is not None and row['longitude_x'] is not None and row['longitude_y'] is not None:\n",
    "        distance = haversine((row['longitude_x'], row['latitude_x']),(row['longitude_y'],row['latitude_y']),unit='mi')\n",
    "        merged_df.set_value(index, 'Distance', distance)\n",
    "    else:\n",
    "        print(\"no distance calculated\")\n",
    "\n",
    "print(merged_df['Distance'])"
   ]
  },
  {
   "cell_type": "code",
   "execution_count": 46,
   "metadata": {},
   "outputs": [
    {
     "name": "stdout",
     "output_type": "stream",
     "text": [
      "0            3.589554\n",
      "4           10.016907\n",
      "8            4.021926\n",
      "12           9.901104\n",
      "16           3.127653\n",
      "20           4.370541\n",
      "24           0.352158\n",
      "28           2.383597\n",
      "32           8.275565\n",
      "36           2.055908\n",
      "40           2.043712\n",
      "44           8.637333\n",
      "48          10.059533\n",
      "52           6.315933\n",
      "56           6.789505\n",
      "60           0.856338\n",
      "64           4.214854\n",
      "68           3.476502\n",
      "72           9.212143\n",
      "76           1.942193\n",
      "80           0.103123\n",
      "84          12.287196\n",
      "88           4.418776\n",
      "92           5.741669\n",
      "96           9.022426\n",
      "100          0.285200\n",
      "104          2.911778\n",
      "108         10.241066\n",
      "112         10.715397\n",
      "116          4.266503\n",
      "              ...    \n",
      "15306076     7.500844\n",
      "15306080     9.200348\n",
      "15306084     5.677552\n",
      "15306088     3.464947\n",
      "15306092     4.991887\n",
      "15306096     4.893923\n",
      "15306100    10.591774\n",
      "15306104    10.137841\n",
      "15306108     0.000000\n",
      "15306112     0.000000\n",
      "15306116     2.024524\n",
      "15306120     4.273776\n",
      "15306124     1.563920\n",
      "15306128     3.923953\n",
      "15306132     4.940030\n",
      "15306136     8.193582\n",
      "15306140     4.876759\n",
      "15306144     1.731616\n",
      "15306148     3.680862\n",
      "15306152     9.288466\n",
      "15306156     6.417762\n",
      "15306160     2.518092\n",
      "15306164     1.372134\n",
      "15306168     6.001840\n",
      "15306172     6.019972\n",
      "15306176     7.202217\n",
      "15306180     0.346445\n",
      "15306184     2.906446\n",
      "15306188     6.267537\n",
      "15306192     4.996815\n",
      "Name: Median Speed, Length: 3829003, dtype: float64\n"
     ]
    }
   ],
   "source": [
    "#get speed\n",
    "\n",
    "#speed in miles per hour\n",
    "merged_df['Median Speed'] = merged_df['Distance'] / (merged_df['tripduration'])*60*60\n",
    "\n",
    "\n",
    "\n",
    "print(merged_df['Median Speed'])"
   ]
  },
  {
   "cell_type": "code",
   "execution_count": 47,
   "metadata": {},
   "outputs": [],
   "source": [
    "#to .csv\n",
    "merged_df.to_csv('merged_divvy.csv')"
   ]
  }
 ],
 "metadata": {
  "kernelspec": {
   "display_name": "Python 3",
   "language": "python",
   "name": "python3"
  },
  "language_info": {
   "codemirror_mode": {
    "name": "ipython",
    "version": 3
   },
   "file_extension": ".py",
   "mimetype": "text/x-python",
   "name": "python",
   "nbconvert_exporter": "python",
   "pygments_lexer": "ipython3",
   "version": "3.7.0"
  }
 },
 "nbformat": 4,
 "nbformat_minor": 2
}
