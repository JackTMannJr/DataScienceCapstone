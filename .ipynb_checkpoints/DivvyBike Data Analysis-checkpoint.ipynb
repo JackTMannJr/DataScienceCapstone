{
 "cells": [
  {
   "cell_type": "markdown",
   "metadata": {},
   "source": [
    "# Combining the Datasets\n",
    "#### Combines the datasets from all .csv files into two separate DataFrames; one for trips and one for stations."
   ]
  },
  {
   "cell_type": "code",
   "execution_count": 2,
   "metadata": {},
   "outputs": [],
   "source": [
    "import pandas as pd\n",
    "import os\n",
    "import glob"
   ]
  },
  {
   "cell_type": "code",
   "execution_count": 4,
   "metadata": {},
   "outputs": [
    {
     "name": "stdout",
     "output_type": "stream",
     "text": [
      "Processing  C:\\Users\\JackMann\\Box Sync\\IBM\\CBDS Dev-UP\\data\\Divvy_Stations_2017_Q1Q2.csv\n",
      "Processing  C:\\Users\\JackMann\\Box Sync\\IBM\\CBDS Dev-UP\\data\\Divvy_Stations_2017_Q3Q4.csv\n",
      "Processing  C:\\Users\\JackMann\\Box Sync\\IBM\\CBDS Dev-UP\\data\\Divvy_Trips_2017_Q1.csv\n",
      "Processing  C:\\Users\\JackMann\\Box Sync\\IBM\\CBDS Dev-UP\\data\\Divvy_Trips_2017_Q2.csv\n",
      "Processing  C:\\Users\\JackMann\\Box Sync\\IBM\\CBDS Dev-UP\\data\\Divvy_Trips_2017_Q3.csv\n",
      "Processing  C:\\Users\\JackMann\\Box Sync\\IBM\\CBDS Dev-UP\\data\\Divvy_Trips_2017_Q4.csv\n"
     ]
    }
   ],
   "source": [
    "#create two lists to organize this data\n",
    "divvy_trip_li = []\n",
    "divvy_station_li = []\n",
    "\n",
    "#define filepath where data is stored\n",
    "path = 'C:\\\\Users\\\\JackMann\\\\Box Sync\\\\IBM\\\\CBDS Dev-UP\\\\data'\n",
    "\n",
    "#get all .csv files\n",
    "all_files = glob.glob(path + \"/*.csv\")\n",
    "\n",
    "#for each file\n",
    "for filename in all_files:\n",
    "    print(\"Processing \",filename)\n",
    "    #if it is a trip, add it to the divvy_trip list\n",
    "    if(\"Trips\" in filename):\n",
    "        df = pd.read_csv(filename, index_col=None, header=0)\n",
    "        divvy_trip_li.append(df)\n",
    "    #if it is a station, add it to the divvy_station list\n",
    "    elif(\"Stations\" in filename):\n",
    "        df = pd.read_csv(filename, index_col=None, header=0)\n",
    "        divvy_station_li.append(df)"
   ]
  },
  {
   "cell_type": "code",
   "execution_count": 12,
   "metadata": {},
   "outputs": [],
   "source": [
    "#concatenate all values from the list for stations and trips into respective dataframes\n",
    "divvy_trip_frame = pd.concat(divvy_trip_li, axis=0, ignore_index=True,sort=False)\n",
    "divvy_station_frame = pd.concat(divvy_station_li, axis=0, ignore_index=True,sort=False)"
   ]
  },
  {
   "cell_type": "code",
   "execution_count": null,
   "metadata": {},
   "outputs": [],
   "source": []
  },
  {
   "cell_type": "markdown",
   "metadata": {},
   "source": [
    "# Data Visualization"
   ]
  },
  {
   "cell_type": "code",
   "execution_count": 11,
   "metadata": {},
   "outputs": [],
   "source": [
    "import matplotlib.pyplot as plt\n",
    "import numpy as np"
   ]
  },
  {
   "cell_type": "code",
   "execution_count": null,
   "metadata": {},
   "outputs": [],
   "source": [
    "matplotlib.pyplot.pie(divvy_trip_frame[, explode=None, labels=None, colors=None, autopct=None, pctdistance=0.6, shadow=False, labeldistance=1.1, startangle=None, radius=None, counterclock=True, wedgeprops=None, textprops=None, center=(0, 0), frame=False, rotatelabels=False, *, data=None)"
   ]
  }
 ],
 "metadata": {
  "kernelspec": {
   "display_name": "Python 3",
   "language": "python",
   "name": "python3"
  },
  "language_info": {
   "codemirror_mode": {
    "name": "ipython",
    "version": 3
   },
   "file_extension": ".py",
   "mimetype": "text/x-python",
   "name": "python",
   "nbconvert_exporter": "python",
   "pygments_lexer": "ipython3",
   "version": "3.7.0"
  }
 },
 "nbformat": 4,
 "nbformat_minor": 2
}
